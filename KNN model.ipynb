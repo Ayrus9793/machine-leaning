{
 "cells": [
  {
   "cell_type": "markdown",
   "id": "affd191a",
   "metadata": {},
   "source": [
    "# Importing Libraries"
   ]
  },
  {
   "cell_type": "code",
   "execution_count": 1,
   "id": "d4124746",
   "metadata": {},
   "outputs": [],
   "source": [
    "import pandas as pd\n",
    "import numpy as np\n",
    "import matplotlib.pyplot as plt\n",
    "import warnings\n",
    "warnings.filterwarnings('ignore')\n",
    "from haversine import haversine\n",
    "import seaborn as sns"
   ]
  },
  {
   "cell_type": "markdown",
   "id": "9e0a2c71",
   "metadata": {},
   "source": [
    "# Reading dataset"
   ]
  },
  {
   "cell_type": "code",
   "execution_count": 2,
   "id": "c0049d36",
   "metadata": {},
   "outputs": [],
   "source": [
    "data=pd.read_csv(\"C:/Users/AYRUS/Desktop/nyc_taxi_trip_duration.csv\")"
   ]
  },
  {
   "cell_type": "code",
   "execution_count": 3,
   "id": "acdf1754",
   "metadata": {},
   "outputs": [
    {
     "data": {
      "text/html": [
       "<div>\n",
       "<style scoped>\n",
       "    .dataframe tbody tr th:only-of-type {\n",
       "        vertical-align: middle;\n",
       "    }\n",
       "\n",
       "    .dataframe tbody tr th {\n",
       "        vertical-align: top;\n",
       "    }\n",
       "\n",
       "    .dataframe thead th {\n",
       "        text-align: right;\n",
       "    }\n",
       "</style>\n",
       "<table border=\"1\" class=\"dataframe\">\n",
       "  <thead>\n",
       "    <tr style=\"text-align: right;\">\n",
       "      <th></th>\n",
       "      <th>id</th>\n",
       "      <th>vendor_id</th>\n",
       "      <th>pickup_datetime</th>\n",
       "      <th>dropoff_datetime</th>\n",
       "      <th>passenger_count</th>\n",
       "      <th>pickup_longitude</th>\n",
       "      <th>pickup_latitude</th>\n",
       "      <th>dropoff_longitude</th>\n",
       "      <th>dropoff_latitude</th>\n",
       "      <th>store_and_fwd_flag</th>\n",
       "      <th>trip_duration</th>\n",
       "    </tr>\n",
       "  </thead>\n",
       "  <tbody>\n",
       "    <tr>\n",
       "      <th>0</th>\n",
       "      <td>id1080784</td>\n",
       "      <td>2</td>\n",
       "      <td>2016-02-29 16:40:21</td>\n",
       "      <td>2016-02-29 16:47:01</td>\n",
       "      <td>1</td>\n",
       "      <td>-73.953918</td>\n",
       "      <td>40.778873</td>\n",
       "      <td>-73.963875</td>\n",
       "      <td>40.771164</td>\n",
       "      <td>N</td>\n",
       "      <td>400</td>\n",
       "    </tr>\n",
       "    <tr>\n",
       "      <th>1</th>\n",
       "      <td>id0889885</td>\n",
       "      <td>1</td>\n",
       "      <td>2016-03-11 23:35:37</td>\n",
       "      <td>2016-03-11 23:53:57</td>\n",
       "      <td>2</td>\n",
       "      <td>-73.988312</td>\n",
       "      <td>40.731743</td>\n",
       "      <td>-73.994751</td>\n",
       "      <td>40.694931</td>\n",
       "      <td>N</td>\n",
       "      <td>1100</td>\n",
       "    </tr>\n",
       "    <tr>\n",
       "      <th>2</th>\n",
       "      <td>id0857912</td>\n",
       "      <td>2</td>\n",
       "      <td>2016-02-21 17:59:33</td>\n",
       "      <td>2016-02-21 18:26:48</td>\n",
       "      <td>2</td>\n",
       "      <td>-73.997314</td>\n",
       "      <td>40.721458</td>\n",
       "      <td>-73.948029</td>\n",
       "      <td>40.774918</td>\n",
       "      <td>N</td>\n",
       "      <td>1635</td>\n",
       "    </tr>\n",
       "    <tr>\n",
       "      <th>3</th>\n",
       "      <td>id3744273</td>\n",
       "      <td>2</td>\n",
       "      <td>2016-01-05 09:44:31</td>\n",
       "      <td>2016-01-05 10:03:32</td>\n",
       "      <td>6</td>\n",
       "      <td>-73.961670</td>\n",
       "      <td>40.759720</td>\n",
       "      <td>-73.956779</td>\n",
       "      <td>40.780628</td>\n",
       "      <td>N</td>\n",
       "      <td>1141</td>\n",
       "    </tr>\n",
       "    <tr>\n",
       "      <th>4</th>\n",
       "      <td>id0232939</td>\n",
       "      <td>1</td>\n",
       "      <td>2016-02-17 06:42:23</td>\n",
       "      <td>2016-02-17 06:56:31</td>\n",
       "      <td>1</td>\n",
       "      <td>-74.017120</td>\n",
       "      <td>40.708469</td>\n",
       "      <td>-73.988182</td>\n",
       "      <td>40.740631</td>\n",
       "      <td>N</td>\n",
       "      <td>848</td>\n",
       "    </tr>\n",
       "  </tbody>\n",
       "</table>\n",
       "</div>"
      ],
      "text/plain": [
       "          id  vendor_id      pickup_datetime     dropoff_datetime  \\\n",
       "0  id1080784          2  2016-02-29 16:40:21  2016-02-29 16:47:01   \n",
       "1  id0889885          1  2016-03-11 23:35:37  2016-03-11 23:53:57   \n",
       "2  id0857912          2  2016-02-21 17:59:33  2016-02-21 18:26:48   \n",
       "3  id3744273          2  2016-01-05 09:44:31  2016-01-05 10:03:32   \n",
       "4  id0232939          1  2016-02-17 06:42:23  2016-02-17 06:56:31   \n",
       "\n",
       "   passenger_count  pickup_longitude  pickup_latitude  dropoff_longitude  \\\n",
       "0                1        -73.953918        40.778873         -73.963875   \n",
       "1                2        -73.988312        40.731743         -73.994751   \n",
       "2                2        -73.997314        40.721458         -73.948029   \n",
       "3                6        -73.961670        40.759720         -73.956779   \n",
       "4                1        -74.017120        40.708469         -73.988182   \n",
       "\n",
       "   dropoff_latitude store_and_fwd_flag  trip_duration  \n",
       "0         40.771164                  N            400  \n",
       "1         40.694931                  N           1100  \n",
       "2         40.774918                  N           1635  \n",
       "3         40.780628                  N           1141  \n",
       "4         40.740631                  N            848  "
      ]
     },
     "execution_count": 3,
     "metadata": {},
     "output_type": "execute_result"
    }
   ],
   "source": [
    "data.head()"
   ]
  },
  {
   "cell_type": "code",
   "execution_count": 4,
   "id": "0736b3d1",
   "metadata": {},
   "outputs": [
    {
     "data": {
      "text/plain": [
       "id                    0\n",
       "vendor_id             0\n",
       "pickup_datetime       0\n",
       "dropoff_datetime      0\n",
       "passenger_count       0\n",
       "pickup_longitude      0\n",
       "pickup_latitude       0\n",
       "dropoff_longitude     0\n",
       "dropoff_latitude      0\n",
       "store_and_fwd_flag    0\n",
       "trip_duration         0\n",
       "dtype: int64"
      ]
     },
     "execution_count": 4,
     "metadata": {},
     "output_type": "execute_result"
    }
   ],
   "source": [
    "data.isna().sum()"
   ]
  },
  {
   "cell_type": "code",
   "execution_count": 5,
   "id": "243085d8",
   "metadata": {
    "scrolled": true
   },
   "outputs": [
    {
     "data": {
      "text/plain": [
       "id                     object\n",
       "vendor_id               int64\n",
       "pickup_datetime        object\n",
       "dropoff_datetime       object\n",
       "passenger_count         int64\n",
       "pickup_longitude      float64\n",
       "pickup_latitude       float64\n",
       "dropoff_longitude     float64\n",
       "dropoff_latitude      float64\n",
       "store_and_fwd_flag     object\n",
       "trip_duration           int64\n",
       "dtype: object"
      ]
     },
     "execution_count": 5,
     "metadata": {},
     "output_type": "execute_result"
    }
   ],
   "source": [
    "data.dtypes"
   ]
  },
  {
   "cell_type": "markdown",
   "id": "933f2593",
   "metadata": {},
   "source": [
    "#  Performing EDA"
   ]
  },
  {
   "cell_type": "code",
   "execution_count": 6,
   "id": "f9058fd8",
   "metadata": {},
   "outputs": [],
   "source": [
    "data['vendor_id']=data['vendor_id'].astype('category')\n",
    "data['store_and_fwd_flag']=data['store_and_fwd_flag'].astype('category')"
   ]
  },
  {
   "cell_type": "code",
   "execution_count": 7,
   "id": "24493bd7",
   "metadata": {},
   "outputs": [],
   "source": [
    "data['pickup_datetime']=pd.to_datetime(data['pickup_datetime'],format='%Y-%m-%d %H:%M:%S')\n",
    "data['dropoff_datetime']=pd.to_datetime(data['dropoff_datetime'],format='%Y-%m-%d %H:%M:%S')"
   ]
  },
  {
   "cell_type": "code",
   "execution_count": 8,
   "id": "e1bd54bc",
   "metadata": {},
   "outputs": [],
   "source": [
    "data['pickup_hour']=data['pickup_datetime'].dt.hour"
   ]
  },
  {
   "cell_type": "code",
   "execution_count": 9,
   "id": "2237c774",
   "metadata": {},
   "outputs": [],
   "source": [
    "data['pick_time_of_the_day']=data.pickup_hour.apply(lambda y:(y%24+4)//4).replace({1:'Late Night',\n",
    "                                                                                   2:'Early Morning',\n",
    "                                                                                   3:'Morning',\n",
    "                                                                                   4:'Afternoon',\n",
    "                                                                                   5:'Evening',\n",
    "                                                                                   6:'Night'})"
   ]
  },
  {
   "cell_type": "code",
   "execution_count": 10,
   "id": "e9ec8b68",
   "metadata": {},
   "outputs": [],
   "source": [
    "data['day_of_the_week']=data.pickup_datetime.apply(lambda x:x.day_name())"
   ]
  },
  {
   "cell_type": "code",
   "execution_count": 11,
   "id": "978a66d4",
   "metadata": {},
   "outputs": [],
   "source": [
    "data['trip_duration_in_hours']=data.trip_duration.apply(lambda x: x/3600)"
   ]
  },
  {
   "cell_type": "code",
   "execution_count": 12,
   "id": "1ec65599",
   "metadata": {},
   "outputs": [],
   "source": [
    "data['pickup_day_of_week']=data['pickup_datetime'].dt.dayofweek"
   ]
  },
  {
   "cell_type": "code",
   "execution_count": 13,
   "id": "b1eaa69a",
   "metadata": {},
   "outputs": [],
   "source": [
    "condition=[data['pick_time_of_the_day']=='Late Night',\n",
    "           data['pick_time_of_the_day']=='Early Morning',\n",
    "           data['pick_time_of_the_day']=='Morning',\n",
    "           data['pick_time_of_the_day']=='Afternoon',\n",
    "           data['pick_time_of_the_day']=='Evening',\n",
    "           data['pick_time_of_the_day']=='Night']\n",
    "\n",
    "choice=[0,1,2,3,4,5]\n",
    "\n",
    "data['pick_time_of_the_day_in_numbers']=np.select(condition,choice)"
   ]
  },
  {
   "cell_type": "code",
   "execution_count": 14,
   "id": "693567c4",
   "metadata": {},
   "outputs": [],
   "source": [
    "def calc_distance(df):\n",
    "    pickup = (df['pickup_latitude'], df['pickup_longitude'])\n",
    "    drop = (df['dropoff_latitude'], df['dropoff_longitude'])\n",
    "    return haversine(pickup, drop)\n",
    "\n"
   ]
  },
  {
   "cell_type": "code",
   "execution_count": 15,
   "id": "32a59818",
   "metadata": {},
   "outputs": [],
   "source": [
    "data['total_distance'] = data.apply(lambda x: calc_distance(x), axis = 1)"
   ]
  },
  {
   "cell_type": "code",
   "execution_count": 16,
   "id": "c7ef10a2",
   "metadata": {},
   "outputs": [],
   "source": [
    "data['speed'] = (data.total_distance/(data.trip_duration/3600))"
   ]
  },
  {
   "cell_type": "code",
   "execution_count": 17,
   "id": "7507390b",
   "metadata": {},
   "outputs": [
    {
     "data": {
      "text/plain": [
       "21813     1939736\n",
       "259437      86391\n",
       "119185      86387\n",
       "177225      86378\n",
       "496391      86377\n",
       "           ...   \n",
       "672240          1\n",
       "102646          1\n",
       "533760          1\n",
       "512833          1\n",
       "622664          1\n",
       "Name: trip_duration, Length: 729322, dtype: int64"
      ]
     },
     "execution_count": 17,
     "metadata": {},
     "output_type": "execute_result"
    }
   ],
   "source": [
    "data['trip_duration'].sort_values(ascending=False)"
   ]
  },
  {
   "cell_type": "code",
   "execution_count": 18,
   "id": "4a233ace",
   "metadata": {},
   "outputs": [],
   "source": [
    "data.drop(data[data['trip_duration']==1939736].index,inplace=True)"
   ]
  },
  {
   "cell_type": "code",
   "execution_count": 19,
   "id": "fce481a2",
   "metadata": {},
   "outputs": [
    {
     "data": {
      "text/plain": [
       "<AxesSubplot:xlabel='passenger_count', ylabel='count'>"
      ]
     },
     "execution_count": 19,
     "metadata": {},
     "output_type": "execute_result"
    },
    {
     "data": {
      "image/png": "[encoded data removed]",
      "text/plain": [
       "<Figure size 432x288 with 1 Axes>"
      ]
     },
     "metadata": {
      "needs_background": "light"
     },
     "output_type": "display_data"
    }
   ],
   "source": [
    "sns.countplot(x='passenger_count',data=data)"
   ]
  },
  {
   "cell_type": "code",
   "execution_count": 20,
   "id": "e5cc0a1d",
   "metadata": {},
   "outputs": [
    {
     "data": {
      "text/plain": [
       "1    517414\n",
       "2    105097\n",
       "5     38926\n",
       "3     29692\n",
       "6     24107\n",
       "4     14050\n",
       "0        33\n",
       "7         1\n",
       "9         1\n",
       "Name: passenger_count, dtype: int64"
      ]
     },
     "execution_count": 20,
     "metadata": {},
     "output_type": "execute_result"
    }
   ],
   "source": [
    "data.passenger_count.value_counts()"
   ]
  },
  {
   "cell_type": "code",
   "execution_count": 21,
   "id": "d0d8368c",
   "metadata": {},
   "outputs": [],
   "source": [
    "data=data[data['passenger_count']!=0]\n",
    "data=data[data['passenger_count']<=6]"
   ]
  },
  {
   "cell_type": "code",
   "execution_count": 22,
   "id": "62ea1b0f",
   "metadata": {},
   "outputs": [
    {
     "data": {
      "text/plain": [
       "1    517414\n",
       "2    105097\n",
       "5     38926\n",
       "3     29692\n",
       "6     24107\n",
       "4     14050\n",
       "Name: passenger_count, dtype: int64"
      ]
     },
     "execution_count": 22,
     "metadata": {},
     "output_type": "execute_result"
    }
   ],
   "source": [
    "data.passenger_count.value_counts()"
   ]
  },
  {
   "cell_type": "code",
   "execution_count": 23,
   "id": "50c43887",
   "metadata": {
    "scrolled": true
   },
   "outputs": [
    {
     "data": {
      "text/html": [
       "<div>\n",
       "<style scoped>\n",
       "    .dataframe tbody tr th:only-of-type {\n",
       "        vertical-align: middle;\n",
       "    }\n",
       "\n",
       "    .dataframe tbody tr th {\n",
       "        vertical-align: top;\n",
       "    }\n",
       "\n",
       "    .dataframe thead th {\n",
       "        text-align: right;\n",
       "    }\n",
       "</style>\n",
       "<table border=\"1\" class=\"dataframe\">\n",
       "  <thead>\n",
       "    <tr style=\"text-align: right;\">\n",
       "      <th></th>\n",
       "      <th>id</th>\n",
       "      <th>vendor_id</th>\n",
       "      <th>pickup_datetime</th>\n",
       "      <th>dropoff_datetime</th>\n",
       "      <th>passenger_count</th>\n",
       "      <th>pickup_longitude</th>\n",
       "      <th>pickup_latitude</th>\n",
       "      <th>dropoff_longitude</th>\n",
       "      <th>dropoff_latitude</th>\n",
       "      <th>store_and_fwd_flag</th>\n",
       "      <th>trip_duration</th>\n",
       "      <th>pickup_hour</th>\n",
       "      <th>pick_time_of_the_day</th>\n",
       "      <th>day_of_the_week</th>\n",
       "      <th>trip_duration_in_hours</th>\n",
       "      <th>pickup_day_of_week</th>\n",
       "      <th>pick_time_of_the_day_in_numbers</th>\n",
       "      <th>total_distance</th>\n",
       "      <th>speed</th>\n",
       "    </tr>\n",
       "  </thead>\n",
       "  <tbody>\n",
       "    <tr>\n",
       "      <th>0</th>\n",
       "      <td>id1080784</td>\n",
       "      <td>2</td>\n",
       "      <td>2016-02-29 16:40:21</td>\n",
       "      <td>2016-02-29 16:47:01</td>\n",
       "      <td>1</td>\n",
       "      <td>-73.953918</td>\n",
       "      <td>40.778873</td>\n",
       "      <td>-73.963875</td>\n",
       "      <td>40.771164</td>\n",
       "      <td>N</td>\n",
       "      <td>400</td>\n",
       "      <td>16</td>\n",
       "      <td>Evening</td>\n",
       "      <td>Monday</td>\n",
       "      <td>0.111111</td>\n",
       "      <td>0</td>\n",
       "      <td>4</td>\n",
       "      <td>1.199074</td>\n",
       "      <td>10.791668</td>\n",
       "    </tr>\n",
       "    <tr>\n",
       "      <th>1</th>\n",
       "      <td>id0889885</td>\n",
       "      <td>1</td>\n",
       "      <td>2016-03-11 23:35:37</td>\n",
       "      <td>2016-03-11 23:53:57</td>\n",
       "      <td>2</td>\n",
       "      <td>-73.988312</td>\n",
       "      <td>40.731743</td>\n",
       "      <td>-73.994751</td>\n",
       "      <td>40.694931</td>\n",
       "      <td>N</td>\n",
       "      <td>1100</td>\n",
       "      <td>23</td>\n",
       "      <td>Night</td>\n",
       "      <td>Friday</td>\n",
       "      <td>0.305556</td>\n",
       "      <td>4</td>\n",
       "      <td>5</td>\n",
       "      <td>4.129117</td>\n",
       "      <td>13.513473</td>\n",
       "    </tr>\n",
       "    <tr>\n",
       "      <th>2</th>\n",
       "      <td>id0857912</td>\n",
       "      <td>2</td>\n",
       "      <td>2016-02-21 17:59:33</td>\n",
       "      <td>2016-02-21 18:26:48</td>\n",
       "      <td>2</td>\n",
       "      <td>-73.997314</td>\n",
       "      <td>40.721458</td>\n",
       "      <td>-73.948029</td>\n",
       "      <td>40.774918</td>\n",
       "      <td>N</td>\n",
       "      <td>1635</td>\n",
       "      <td>17</td>\n",
       "      <td>Evening</td>\n",
       "      <td>Sunday</td>\n",
       "      <td>0.454167</td>\n",
       "      <td>6</td>\n",
       "      <td>4</td>\n",
       "      <td>7.250763</td>\n",
       "      <td>15.964983</td>\n",
       "    </tr>\n",
       "    <tr>\n",
       "      <th>3</th>\n",
       "      <td>id3744273</td>\n",
       "      <td>2</td>\n",
       "      <td>2016-01-05 09:44:31</td>\n",
       "      <td>2016-01-05 10:03:32</td>\n",
       "      <td>6</td>\n",
       "      <td>-73.961670</td>\n",
       "      <td>40.759720</td>\n",
       "      <td>-73.956779</td>\n",
       "      <td>40.780628</td>\n",
       "      <td>N</td>\n",
       "      <td>1141</td>\n",
       "      <td>9</td>\n",
       "      <td>Morning</td>\n",
       "      <td>Tuesday</td>\n",
       "      <td>0.316944</td>\n",
       "      <td>1</td>\n",
       "      <td>2</td>\n",
       "      <td>2.361101</td>\n",
       "      <td>7.449573</td>\n",
       "    </tr>\n",
       "    <tr>\n",
       "      <th>4</th>\n",
       "      <td>id0232939</td>\n",
       "      <td>1</td>\n",
       "      <td>2016-02-17 06:42:23</td>\n",
       "      <td>2016-02-17 06:56:31</td>\n",
       "      <td>1</td>\n",
       "      <td>-74.017120</td>\n",
       "      <td>40.708469</td>\n",
       "      <td>-73.988182</td>\n",
       "      <td>40.740631</td>\n",
       "      <td>N</td>\n",
       "      <td>848</td>\n",
       "      <td>6</td>\n",
       "      <td>Early Morning</td>\n",
       "      <td>Wednesday</td>\n",
       "      <td>0.235556</td>\n",
       "      <td>2</td>\n",
       "      <td>1</td>\n",
       "      <td>4.328540</td>\n",
       "      <td>18.375877</td>\n",
       "    </tr>\n",
       "  </tbody>\n",
       "</table>\n",
       "</div>"
      ],
      "text/plain": [
       "          id vendor_id     pickup_datetime    dropoff_datetime  \\\n",
       "0  id1080784         2 2016-02-29 16:40:21 2016-02-29 16:47:01   \n",
       "1  id0889885         1 2016-03-11 23:35:37 2016-03-11 23:53:57   \n",
       "2  id0857912         2 2016-02-21 17:59:33 2016-02-21 18:26:48   \n",
       "3  id3744273         2 2016-01-05 09:44:31 2016-01-05 10:03:32   \n",
       "4  id0232939         1 2016-02-17 06:42:23 2016-02-17 06:56:31   \n",
       "\n",
       "   passenger_count  pickup_longitude  pickup_latitude  dropoff_longitude  \\\n",
       "0                1        -73.953918        40.778873         -73.963875   \n",
       "1                2        -73.988312        40.731743         -73.994751   \n",
       "2                2        -73.997314        40.721458         -73.948029   \n",
       "3                6        -73.961670        40.759720         -73.956779   \n",
       "4                1        -74.017120        40.708469         -73.988182   \n",
       "\n",
       "   dropoff_latitude store_and_fwd_flag  trip_duration  pickup_hour  \\\n",
       "0         40.771164                  N            400           16   \n",
       "1         40.694931                  N           1100           23   \n",
       "2         40.774918                  N           1635           17   \n",
       "3         40.780628                  N           1141            9   \n",
       "4         40.740631                  N            848            6   \n",
       "\n",
       "  pick_time_of_the_day day_of_the_week  trip_duration_in_hours  \\\n",
       "0              Evening          Monday                0.111111   \n",
       "1                Night          Friday                0.305556   \n",
       "2              Evening          Sunday                0.454167   \n",
       "3              Morning         Tuesday                0.316944   \n",
       "4        Early Morning       Wednesday                0.235556   \n",
       "\n",
       "   pickup_day_of_week  pick_time_of_the_day_in_numbers  total_distance  \\\n",
       "0                   0                                4        1.199074   \n",
       "1                   4                                5        4.129117   \n",
       "2                   6                                4        7.250763   \n",
       "3                   1                                2        2.361101   \n",
       "4                   2                                1        4.328540   \n",
       "\n",
       "       speed  \n",
       "0  10.791668  \n",
       "1  13.513473  \n",
       "2  15.964983  \n",
       "3   7.449573  \n",
       "4  18.375877  "
      ]
     },
     "execution_count": 23,
     "metadata": {},
     "output_type": "execute_result"
    }
   ],
   "source": [
    "data.head()"
   ]
  },
  {
   "cell_type": "code",
   "execution_count": 24,
   "id": "a7b6c32d",
   "metadata": {},
   "outputs": [],
   "source": [
    "data=pd.get_dummies(data,columns=['store_and_fwd_flag','passenger_count','day_of_the_week','pick_time_of_the_day','vendor_id'])\n",
    "\n"
   ]
  },
  {
   "cell_type": "code",
   "execution_count": 25,
   "id": "23171f6e",
   "metadata": {},
   "outputs": [
    {
     "data": {
      "text/html": [
       "<div>\n",
       "<style scoped>\n",
       "    .dataframe tbody tr th:only-of-type {\n",
       "        vertical-align: middle;\n",
       "    }\n",
       "\n",
       "    .dataframe tbody tr th {\n",
       "        vertical-align: top;\n",
       "    }\n",
       "\n",
       "    .dataframe thead th {\n",
       "        text-align: right;\n",
       "    }\n",
       "</style>\n",
       "<table border=\"1\" class=\"dataframe\">\n",
       "  <thead>\n",
       "    <tr style=\"text-align: right;\">\n",
       "      <th></th>\n",
       "      <th>id</th>\n",
       "      <th>pickup_datetime</th>\n",
       "      <th>dropoff_datetime</th>\n",
       "      <th>pickup_longitude</th>\n",
       "      <th>pickup_latitude</th>\n",
       "      <th>dropoff_longitude</th>\n",
       "      <th>dropoff_latitude</th>\n",
       "      <th>trip_duration</th>\n",
       "      <th>pickup_hour</th>\n",
       "      <th>trip_duration_in_hours</th>\n",
       "      <th>...</th>\n",
       "      <th>day_of_the_week_Tuesday</th>\n",
       "      <th>day_of_the_week_Wednesday</th>\n",
       "      <th>pick_time_of_the_day_Afternoon</th>\n",
       "      <th>pick_time_of_the_day_Early Morning</th>\n",
       "      <th>pick_time_of_the_day_Evening</th>\n",
       "      <th>pick_time_of_the_day_Late Night</th>\n",
       "      <th>pick_time_of_the_day_Morning</th>\n",
       "      <th>pick_time_of_the_day_Night</th>\n",
       "      <th>vendor_id_1</th>\n",
       "      <th>vendor_id_2</th>\n",
       "    </tr>\n",
       "  </thead>\n",
       "  <tbody>\n",
       "    <tr>\n",
       "      <th>0</th>\n",
       "      <td>id1080784</td>\n",
       "      <td>2016-02-29 16:40:21</td>\n",
       "      <td>2016-02-29 16:47:01</td>\n",
       "      <td>-73.953918</td>\n",
       "      <td>40.778873</td>\n",
       "      <td>-73.963875</td>\n",
       "      <td>40.771164</td>\n",
       "      <td>400</td>\n",
       "      <td>16</td>\n",
       "      <td>0.111111</td>\n",
       "      <td>...</td>\n",
       "      <td>0</td>\n",
       "      <td>0</td>\n",
       "      <td>0</td>\n",
       "      <td>0</td>\n",
       "      <td>1</td>\n",
       "      <td>0</td>\n",
       "      <td>0</td>\n",
       "      <td>0</td>\n",
       "      <td>0</td>\n",
       "      <td>1</td>\n",
       "    </tr>\n",
       "    <tr>\n",
       "      <th>1</th>\n",
       "      <td>id0889885</td>\n",
       "      <td>2016-03-11 23:35:37</td>\n",
       "      <td>2016-03-11 23:53:57</td>\n",
       "      <td>-73.988312</td>\n",
       "      <td>40.731743</td>\n",
       "      <td>-73.994751</td>\n",
       "      <td>40.694931</td>\n",
       "      <td>1100</td>\n",
       "      <td>23</td>\n",
       "      <td>0.305556</td>\n",
       "      <td>...</td>\n",
       "      <td>0</td>\n",
       "      <td>0</td>\n",
       "      <td>0</td>\n",
       "      <td>0</td>\n",
       "      <td>0</td>\n",
       "      <td>0</td>\n",
       "      <td>0</td>\n",
       "      <td>1</td>\n",
       "      <td>1</td>\n",
       "      <td>0</td>\n",
       "    </tr>\n",
       "    <tr>\n",
       "      <th>2</th>\n",
       "      <td>id0857912</td>\n",
       "      <td>2016-02-21 17:59:33</td>\n",
       "      <td>2016-02-21 18:26:48</td>\n",
       "      <td>-73.997314</td>\n",
       "      <td>40.721458</td>\n",
       "      <td>-73.948029</td>\n",
       "      <td>40.774918</td>\n",
       "      <td>1635</td>\n",
       "      <td>17</td>\n",
       "      <td>0.454167</td>\n",
       "      <td>...</td>\n",
       "      <td>0</td>\n",
       "      <td>0</td>\n",
       "      <td>0</td>\n",
       "      <td>0</td>\n",
       "      <td>1</td>\n",
       "      <td>0</td>\n",
       "      <td>0</td>\n",
       "      <td>0</td>\n",
       "      <td>0</td>\n",
       "      <td>1</td>\n",
       "    </tr>\n",
       "    <tr>\n",
       "      <th>3</th>\n",
       "      <td>id3744273</td>\n",
       "      <td>2016-01-05 09:44:31</td>\n",
       "      <td>2016-01-05 10:03:32</td>\n",
       "      <td>-73.961670</td>\n",
       "      <td>40.759720</td>\n",
       "      <td>-73.956779</td>\n",
       "      <td>40.780628</td>\n",
       "      <td>1141</td>\n",
       "      <td>9</td>\n",
       "      <td>0.316944</td>\n",
       "      <td>...</td>\n",
       "      <td>1</td>\n",
       "      <td>0</td>\n",
       "      <td>0</td>\n",
       "      <td>0</td>\n",
       "      <td>0</td>\n",
       "      <td>0</td>\n",
       "      <td>1</td>\n",
       "      <td>0</td>\n",
       "      <td>0</td>\n",
       "      <td>1</td>\n",
       "    </tr>\n",
       "    <tr>\n",
       "      <th>4</th>\n",
       "      <td>id0232939</td>\n",
       "      <td>2016-02-17 06:42:23</td>\n",
       "      <td>2016-02-17 06:56:31</td>\n",
       "      <td>-74.017120</td>\n",
       "      <td>40.708469</td>\n",
       "      <td>-73.988182</td>\n",
       "      <td>40.740631</td>\n",
       "      <td>848</td>\n",
       "      <td>6</td>\n",
       "      <td>0.235556</td>\n",
       "      <td>...</td>\n",
       "      <td>0</td>\n",
       "      <td>1</td>\n",
       "      <td>0</td>\n",
       "      <td>1</td>\n",
       "      <td>0</td>\n",
       "      <td>0</td>\n",
       "      <td>0</td>\n",
       "      <td>0</td>\n",
       "      <td>1</td>\n",
       "      <td>0</td>\n",
       "    </tr>\n",
       "  </tbody>\n",
       "</table>\n",
       "<p>5 rows × 37 columns</p>\n",
       "</div>"
      ],
      "text/plain": [
       "          id     pickup_datetime    dropoff_datetime  pickup_longitude  \\\n",
       "0  id1080784 2016-02-29 16:40:21 2016-02-29 16:47:01        -73.953918   \n",
       "1  id0889885 2016-03-11 23:35:37 2016-03-11 23:53:57        -73.988312   \n",
       "2  id0857912 2016-02-21 17:59:33 2016-02-21 18:26:48        -73.997314   \n",
       "3  id3744273 2016-01-05 09:44:31 2016-01-05 10:03:32        -73.961670   \n",
       "4  id0232939 2016-02-17 06:42:23 2016-02-17 06:56:31        -74.017120   \n",
       "\n",
       "   pickup_latitude  dropoff_longitude  dropoff_latitude  trip_duration  \\\n",
       "0        40.778873         -73.963875         40.771164            400   \n",
       "1        40.731743         -73.994751         40.694931           1100   \n",
       "2        40.721458         -73.948029         40.774918           1635   \n",
       "3        40.759720         -73.956779         40.780628           1141   \n",
       "4        40.708469         -73.988182         40.740631            848   \n",
       "\n",
       "   pickup_hour  trip_duration_in_hours  ...  day_of_the_week_Tuesday  \\\n",
       "0           16                0.111111  ...                        0   \n",
       "1           23                0.305556  ...                        0   \n",
       "2           17                0.454167  ...                        0   \n",
       "3            9                0.316944  ...                        1   \n",
       "4            6                0.235556  ...                        0   \n",
       "\n",
       "   day_of_the_week_Wednesday  pick_time_of_the_day_Afternoon  \\\n",
       "0                          0                               0   \n",
       "1                          0                               0   \n",
       "2                          0                               0   \n",
       "3                          0                               0   \n",
       "4                          1                               0   \n",
       "\n",
       "   pick_time_of_the_day_Early Morning  pick_time_of_the_day_Evening  \\\n",
       "0                                   0                             1   \n",
       "1                                   0                             0   \n",
       "2                                   0                             1   \n",
       "3                                   0                             0   \n",
       "4                                   1                             0   \n",
       "\n",
       "   pick_time_of_the_day_Late Night  pick_time_of_the_day_Morning  \\\n",
       "0                                0                             0   \n",
       "1                                0                             0   \n",
       "2                                0                             0   \n",
       "3                                0                             1   \n",
       "4                                0                             0   \n",
       "\n",
       "   pick_time_of_the_day_Night  vendor_id_1  vendor_id_2  \n",
       "0                           0            0            1  \n",
       "1                           1            1            0  \n",
       "2                           0            0            1  \n",
       "3                           0            0            1  \n",
       "4                           0            1            0  \n",
       "\n",
       "[5 rows x 37 columns]"
      ]
     },
     "execution_count": 25,
     "metadata": {},
     "output_type": "execute_result"
    }
   ],
   "source": [
    "data.head()"
   ]
  },
  {
   "cell_type": "markdown",
   "id": "0affe0f4",
   "metadata": {},
   "source": [
    "# Divide data into Train & Module "
   ]
  },
  {
   "cell_type": "code",
   "execution_count": 26,
   "id": "38e8cafb",
   "metadata": {},
   "outputs": [],
   "source": [
    "from sklearn.utils import shuffle\n",
    "\n",
    "# Shuffling the Dataset\n",
    "data = shuffle(data, random_state = 42)\n",
    "\n",
    "#creating 4 divisions\n",
    "div = int(data.shape[0]/4)\n",
    "\n",
    "# 3 parts to train set and 1 part to module set\n",
    "train_data= data.loc[:3*div+1,:]\n",
    "module_data = data.loc[3*div+1:]"
   ]
  },
  {
   "cell_type": "code",
   "execution_count": 27,
   "id": "d6f98d29",
   "metadata": {},
   "outputs": [
    {
     "data": {
      "text/plain": [
       "(522516, 37)"
      ]
     },
     "execution_count": 27,
     "metadata": {},
     "output_type": "execute_result"
    }
   ],
   "source": [
    "train_data.shape"
   ]
  },
  {
   "cell_type": "code",
   "execution_count": 28,
   "id": "e8f8c8d9",
   "metadata": {},
   "outputs": [
    {
     "data": {
      "text/plain": [
       "(206771, 37)"
      ]
     },
     "execution_count": 28,
     "metadata": {},
     "output_type": "execute_result"
    }
   ],
   "source": [
    "module_data.shape"
   ]
  },
  {
   "cell_type": "code",
   "execution_count": 29,
   "id": "68b40240",
   "metadata": {},
   "outputs": [
    {
     "data": {
      "text/html": [
       "<div>\n",
       "<style scoped>\n",
       "    .dataframe tbody tr th:only-of-type {\n",
       "        vertical-align: middle;\n",
       "    }\n",
       "\n",
       "    .dataframe tbody tr th {\n",
       "        vertical-align: top;\n",
       "    }\n",
       "\n",
       "    .dataframe thead th {\n",
       "        text-align: right;\n",
       "    }\n",
       "</style>\n",
       "<table border=\"1\" class=\"dataframe\">\n",
       "  <thead>\n",
       "    <tr style=\"text-align: right;\">\n",
       "      <th></th>\n",
       "      <th>pickup_longitude</th>\n",
       "      <th>pickup_latitude</th>\n",
       "      <th>dropoff_longitude</th>\n",
       "      <th>dropoff_latitude</th>\n",
       "      <th>trip_duration</th>\n",
       "      <th>pickup_hour</th>\n",
       "      <th>trip_duration_in_hours</th>\n",
       "      <th>pickup_day_of_week</th>\n",
       "      <th>pick_time_of_the_day_in_numbers</th>\n",
       "      <th>total_distance</th>\n",
       "      <th>...</th>\n",
       "      <th>day_of_the_week_Tuesday</th>\n",
       "      <th>day_of_the_week_Wednesday</th>\n",
       "      <th>pick_time_of_the_day_Afternoon</th>\n",
       "      <th>pick_time_of_the_day_Early Morning</th>\n",
       "      <th>pick_time_of_the_day_Evening</th>\n",
       "      <th>pick_time_of_the_day_Late Night</th>\n",
       "      <th>pick_time_of_the_day_Morning</th>\n",
       "      <th>pick_time_of_the_day_Night</th>\n",
       "      <th>vendor_id_1</th>\n",
       "      <th>vendor_id_2</th>\n",
       "    </tr>\n",
       "  </thead>\n",
       "  <tbody>\n",
       "    <tr>\n",
       "      <th>546964</th>\n",
       "      <td>-73.957359</td>\n",
       "      <td>40.785664</td>\n",
       "      <td>-73.963364</td>\n",
       "      <td>40.775875</td>\n",
       "      <td>468</td>\n",
       "      <td>15</td>\n",
       "      <td>0.130000</td>\n",
       "      <td>1</td>\n",
       "      <td>3</td>\n",
       "      <td>1.200115</td>\n",
       "      <td>...</td>\n",
       "      <td>1</td>\n",
       "      <td>0</td>\n",
       "      <td>1</td>\n",
       "      <td>0</td>\n",
       "      <td>0</td>\n",
       "      <td>0</td>\n",
       "      <td>0</td>\n",
       "      <td>0</td>\n",
       "      <td>0</td>\n",
       "      <td>1</td>\n",
       "    </tr>\n",
       "    <tr>\n",
       "      <th>207141</th>\n",
       "      <td>-73.863258</td>\n",
       "      <td>40.769756</td>\n",
       "      <td>-73.980888</td>\n",
       "      <td>40.764374</td>\n",
       "      <td>3388</td>\n",
       "      <td>14</td>\n",
       "      <td>0.941111</td>\n",
       "      <td>3</td>\n",
       "      <td>3</td>\n",
       "      <td>9.924377</td>\n",
       "      <td>...</td>\n",
       "      <td>0</td>\n",
       "      <td>0</td>\n",
       "      <td>1</td>\n",
       "      <td>0</td>\n",
       "      <td>0</td>\n",
       "      <td>0</td>\n",
       "      <td>0</td>\n",
       "      <td>0</td>\n",
       "      <td>1</td>\n",
       "      <td>0</td>\n",
       "    </tr>\n",
       "    <tr>\n",
       "      <th>637544</th>\n",
       "      <td>-73.966644</td>\n",
       "      <td>40.757729</td>\n",
       "      <td>-73.970009</td>\n",
       "      <td>40.750610</td>\n",
       "      <td>288</td>\n",
       "      <td>9</td>\n",
       "      <td>0.080000</td>\n",
       "      <td>4</td>\n",
       "      <td>2</td>\n",
       "      <td>0.840719</td>\n",
       "      <td>...</td>\n",
       "      <td>0</td>\n",
       "      <td>0</td>\n",
       "      <td>0</td>\n",
       "      <td>0</td>\n",
       "      <td>0</td>\n",
       "      <td>0</td>\n",
       "      <td>1</td>\n",
       "      <td>0</td>\n",
       "      <td>0</td>\n",
       "      <td>1</td>\n",
       "    </tr>\n",
       "    <tr>\n",
       "      <th>721586</th>\n",
       "      <td>-73.966293</td>\n",
       "      <td>40.767910</td>\n",
       "      <td>-73.986977</td>\n",
       "      <td>40.726765</td>\n",
       "      <td>765</td>\n",
       "      <td>22</td>\n",
       "      <td>0.212500</td>\n",
       "      <td>6</td>\n",
       "      <td>5</td>\n",
       "      <td>4.895707</td>\n",
       "      <td>...</td>\n",
       "      <td>0</td>\n",
       "      <td>0</td>\n",
       "      <td>0</td>\n",
       "      <td>0</td>\n",
       "      <td>0</td>\n",
       "      <td>0</td>\n",
       "      <td>0</td>\n",
       "      <td>1</td>\n",
       "      <td>1</td>\n",
       "      <td>0</td>\n",
       "    </tr>\n",
       "    <tr>\n",
       "      <th>639710</th>\n",
       "      <td>-74.005028</td>\n",
       "      <td>40.722752</td>\n",
       "      <td>-73.978699</td>\n",
       "      <td>40.740940</td>\n",
       "      <td>484</td>\n",
       "      <td>1</td>\n",
       "      <td>0.134444</td>\n",
       "      <td>0</td>\n",
       "      <td>0</td>\n",
       "      <td>3.002018</td>\n",
       "      <td>...</td>\n",
       "      <td>0</td>\n",
       "      <td>0</td>\n",
       "      <td>0</td>\n",
       "      <td>0</td>\n",
       "      <td>0</td>\n",
       "      <td>1</td>\n",
       "      <td>0</td>\n",
       "      <td>0</td>\n",
       "      <td>0</td>\n",
       "      <td>1</td>\n",
       "    </tr>\n",
       "  </tbody>\n",
       "</table>\n",
       "<p>5 rows × 34 columns</p>\n",
       "</div>"
      ],
      "text/plain": [
       "        pickup_longitude  pickup_latitude  dropoff_longitude  \\\n",
       "546964        -73.957359        40.785664         -73.963364   \n",
       "207141        -73.863258        40.769756         -73.980888   \n",
       "637544        -73.966644        40.757729         -73.970009   \n",
       "721586        -73.966293        40.767910         -73.986977   \n",
       "639710        -74.005028        40.722752         -73.978699   \n",
       "\n",
       "        dropoff_latitude  trip_duration  pickup_hour  trip_duration_in_hours  \\\n",
       "546964         40.775875            468           15                0.130000   \n",
       "207141         40.764374           3388           14                0.941111   \n",
       "637544         40.750610            288            9                0.080000   \n",
       "721586         40.726765            765           22                0.212500   \n",
       "639710         40.740940            484            1                0.134444   \n",
       "\n",
       "        pickup_day_of_week  pick_time_of_the_day_in_numbers  total_distance  \\\n",
       "546964                   1                                3        1.200115   \n",
       "207141                   3                                3        9.924377   \n",
       "637544                   4                                2        0.840719   \n",
       "721586                   6                                5        4.895707   \n",
       "639710                   0                                0        3.002018   \n",
       "\n",
       "        ...  day_of_the_week_Tuesday  day_of_the_week_Wednesday  \\\n",
       "546964  ...                        1                          0   \n",
       "207141  ...                        0                          0   \n",
       "637544  ...                        0                          0   \n",
       "721586  ...                        0                          0   \n",
       "639710  ...                        0                          0   \n",
       "\n",
       "        pick_time_of_the_day_Afternoon  pick_time_of_the_day_Early Morning  \\\n",
       "546964                               1                                   0   \n",
       "207141                               1                                   0   \n",
       "637544                               0                                   0   \n",
       "721586                               0                                   0   \n",
       "639710                               0                                   0   \n",
       "\n",
       "        pick_time_of_the_day_Evening  pick_time_of_the_day_Late Night  \\\n",
       "546964                             0                                0   \n",
       "207141                             0                                0   \n",
       "637544                             0                                0   \n",
       "721586                             0                                0   \n",
       "639710                             0                                1   \n",
       "\n",
       "        pick_time_of_the_day_Morning  pick_time_of_the_day_Night  vendor_id_1  \\\n",
       "546964                             0                           0            0   \n",
       "207141                             0                           0            1   \n",
       "637544                             1                           0            0   \n",
       "721586                             0                           1            1   \n",
       "639710                             0                           0            0   \n",
       "\n",
       "        vendor_id_2  \n",
       "546964            1  \n",
       "207141            0  \n",
       "637544            1  \n",
       "721586            0  \n",
       "639710            1  \n",
       "\n",
       "[5 rows x 34 columns]"
      ]
     },
     "execution_count": 29,
     "metadata": {},
     "output_type": "execute_result"
    }
   ],
   "source": [
    "# loading module data in new_data\n",
    "new_data=module_data.drop(['id','pickup_datetime','dropoff_datetime'],axis=1)\n",
    "\n",
    "new_data.head()"
   ]
  },
  {
   "cell_type": "markdown",
   "id": "bf607137",
   "metadata": {},
   "source": [
    "# Segragating variables Independent and Dependent"
   ]
  },
  {
   "cell_type": "code",
   "execution_count": 30,
   "id": "c35f675d",
   "metadata": {},
   "outputs": [
    {
     "data": {
      "text/plain": [
       "((206771, 33), (206771,))"
      ]
     },
     "execution_count": 30,
     "metadata": {},
     "output_type": "execute_result"
    }
   ],
   "source": [
    "# seprating independent and dependent variables\n",
    "x=new_data.drop(['trip_duration_in_hours'],axis=1)\n",
    "y=new_data['trip_duration_in_hours']\n",
    "\n",
    "x.shape , y.shape"
   ]
  },
  {
   "cell_type": "markdown",
   "id": "18bab644",
   "metadata": {},
   "source": [
    "# scaling the data(using minmax scaler)"
   ]
  },
  {
   "cell_type": "code",
   "execution_count": 31,
   "id": "875cb641",
   "metadata": {},
   "outputs": [],
   "source": [
    "# Importing Minmax scaler\n",
    "from sklearn.preprocessing import MinMaxScaler\n",
    "scaler = MinMaxScaler()\n",
    "x_scaled = scaler.fit_transform(x)"
   ]
  },
  {
   "cell_type": "code",
   "execution_count": 32,
   "id": "17d93cbe",
   "metadata": {},
   "outputs": [],
   "source": [
    "x = pd.DataFrame(x_scaled)"
   ]
  },
  {
   "cell_type": "code",
   "execution_count": 33,
   "id": "6b1f395e",
   "metadata": {},
   "outputs": [],
   "source": [
    "# Importing Train test split\n",
    "\n",
    "from sklearn.model_selection import train_test_split\n",
    "train_x,test_x,train_y,test_y = train_test_split(x,y, random_state = 42,test_size=0.02)\n"
   ]
  },
  {
   "cell_type": "code",
   "execution_count": 34,
   "id": "b2f1c234",
   "metadata": {},
   "outputs": [
    {
     "data": {
      "text/plain": [
       "(202635, 33)"
      ]
     },
     "execution_count": 34,
     "metadata": {},
     "output_type": "execute_result"
    }
   ],
   "source": [
    "train_x.shape"
   ]
  },
  {
   "cell_type": "code",
   "execution_count": 35,
   "id": "17769344",
   "metadata": {},
   "outputs": [
    {
     "data": {
      "text/plain": [
       "(4136, 33)"
      ]
     },
     "execution_count": 35,
     "metadata": {},
     "output_type": "execute_result"
    }
   ],
   "source": [
    "test_x.shape"
   ]
  },
  {
   "cell_type": "markdown",
   "id": "7cf5d7a0",
   "metadata": {},
   "source": [
    "# Importing KNN regressor and Mean Absolute Error"
   ]
  },
  {
   "cell_type": "code",
   "execution_count": 36,
   "id": "81b90990",
   "metadata": {},
   "outputs": [],
   "source": [
    "from sklearn.neighbors import KNeighborsRegressor as KNN\n",
    "from sklearn.metrics import mean_absolute_error as mae"
   ]
  },
  {
   "cell_type": "code",
   "execution_count": 37,
   "id": "0c6cf28a",
   "metadata": {},
   "outputs": [
    {
     "name": "stdout",
     "output_type": "stream",
     "text": [
      "Test MAE     0.03872105362131958\n"
     ]
    }
   ],
   "source": [
    "# Creating instance of KNN\n",
    "reg = KNN(n_neighbors = 1)\n",
    "\n",
    "# Fitting the model\n",
    "reg.fit(train_x, train_y)\n",
    "\n",
    "# Predicting over the Train Set and calculating MAE\n",
    "test_predict = reg.predict(test_x)\n",
    "k = mae(test_predict, test_y)\n",
    "print('Test MAE    ', k )"
   ]
  },
  {
   "cell_type": "code",
   "execution_count": 38,
   "id": "583ced1f",
   "metadata": {},
   "outputs": [],
   "source": [
    "# making Elbow classifier\n",
    "def Elbow(K):\n",
    "  #initiating empty list\n",
    "    test_mae= []\n",
    "  \n",
    "  #training model for evey value of K\n",
    "    for i in K:\n",
    "        #Instance of KNN\n",
    "        reg = KNN(n_neighbors = i)\n",
    "        reg.fit(train_x, train_y)\n",
    "        #Appending mae value to empty list claculated using the predictions\n",
    "        tmp = reg.predict(test_x)\n",
    "        tmp = mae(tmp,test_y)\n",
    "        test_mae.append(tmp)\n",
    "    \n",
    "    return test_mae"
   ]
  },
  {
   "cell_type": "code",
   "execution_count": 39,
   "id": "644e3ee8",
   "metadata": {},
   "outputs": [],
   "source": [
    "# K value \n",
    "k = range(1,15)"
   ]
  },
  {
   "cell_type": "code",
   "execution_count": 40,
   "id": "0d98b5b1",
   "metadata": {},
   "outputs": [],
   "source": [
    "# calling above function\n",
    "test = Elbow(k)"
   ]
  },
  {
   "cell_type": "code",
   "execution_count": 41,
   "id": "f96c581d",
   "metadata": {},
   "outputs": [
    {
     "data": {
      "text/plain": [
       "Text(0.5, 1.0, 'Elbow Curve for test')"
      ]
     },
     "execution_count": 41,
     "metadata": {},
     "output_type": "execute_result"
    },
    {
     "data": {
      "image/png": "[encoded data removed]",
      "text/plain": [
       "<Figure size 432x288 with 1 Axes>"
      ]
     },
     "metadata": {
      "needs_background": "light"
     },
     "output_type": "display_data"
    }
   ],
   "source": [
    "# plotting the curves\n",
    "plt.plot(k, test)\n",
    "plt.xlabel('K Neighbors')\n",
    "plt.ylabel('Test Mean Squared Error')\n",
    "plt.title('Elbow Curve for test')"
   ]
  },
  {
   "cell_type": "code",
   "execution_count": 42,
   "id": "5506a2e7",
   "metadata": {},
   "outputs": [
    {
     "name": "stdout",
     "output_type": "stream",
     "text": [
      "Test MAE     0.036796287341500096\n"
     ]
    }
   ],
   "source": [
    "# Creating instance of KNN\n",
    "reg = KNN(n_neighbors = 2)\n",
    "\n",
    "# Fitting the model\n",
    "reg.fit(train_x, train_y)\n",
    "\n",
    "# Predicting over the Train Set and calculating mae\n",
    "test_predict = reg.predict(test_x)\n",
    "k1= mae(test_predict, test_y)\n",
    "print('Test MAE    ', k1 )"
   ]
  },
  {
   "cell_type": "markdown",
   "id": "073fbd7b",
   "metadata": {},
   "source": [
    "# Loading train data "
   ]
  },
  {
   "cell_type": "code",
   "execution_count": 43,
   "id": "ec0fc5b5",
   "metadata": {},
   "outputs": [
    {
     "data": {
      "text/html": [
       "<div>\n",
       "<style scoped>\n",
       "    .dataframe tbody tr th:only-of-type {\n",
       "        vertical-align: middle;\n",
       "    }\n",
       "\n",
       "    .dataframe tbody tr th {\n",
       "        vertical-align: top;\n",
       "    }\n",
       "\n",
       "    .dataframe thead th {\n",
       "        text-align: right;\n",
       "    }\n",
       "</style>\n",
       "<table border=\"1\" class=\"dataframe\">\n",
       "  <thead>\n",
       "    <tr style=\"text-align: right;\">\n",
       "      <th></th>\n",
       "      <th>pickup_longitude</th>\n",
       "      <th>pickup_latitude</th>\n",
       "      <th>dropoff_longitude</th>\n",
       "      <th>dropoff_latitude</th>\n",
       "      <th>trip_duration</th>\n",
       "      <th>pickup_hour</th>\n",
       "      <th>trip_duration_in_hours</th>\n",
       "      <th>pickup_day_of_week</th>\n",
       "      <th>pick_time_of_the_day_in_numbers</th>\n",
       "      <th>total_distance</th>\n",
       "      <th>...</th>\n",
       "      <th>day_of_the_week_Tuesday</th>\n",
       "      <th>day_of_the_week_Wednesday</th>\n",
       "      <th>pick_time_of_the_day_Afternoon</th>\n",
       "      <th>pick_time_of_the_day_Early Morning</th>\n",
       "      <th>pick_time_of_the_day_Evening</th>\n",
       "      <th>pick_time_of_the_day_Late Night</th>\n",
       "      <th>pick_time_of_the_day_Morning</th>\n",
       "      <th>pick_time_of_the_day_Night</th>\n",
       "      <th>vendor_id_1</th>\n",
       "      <th>vendor_id_2</th>\n",
       "    </tr>\n",
       "  </thead>\n",
       "  <tbody>\n",
       "    <tr>\n",
       "      <th>327115</th>\n",
       "      <td>-73.991814</td>\n",
       "      <td>40.744064</td>\n",
       "      <td>-73.907669</td>\n",
       "      <td>40.683575</td>\n",
       "      <td>3368</td>\n",
       "      <td>19</td>\n",
       "      <td>0.935556</td>\n",
       "      <td>2</td>\n",
       "      <td>4</td>\n",
       "      <td>9.774321</td>\n",
       "      <td>...</td>\n",
       "      <td>0</td>\n",
       "      <td>1</td>\n",
       "      <td>0</td>\n",
       "      <td>0</td>\n",
       "      <td>1</td>\n",
       "      <td>0</td>\n",
       "      <td>0</td>\n",
       "      <td>0</td>\n",
       "      <td>1</td>\n",
       "      <td>0</td>\n",
       "    </tr>\n",
       "    <tr>\n",
       "      <th>642546</th>\n",
       "      <td>-73.991463</td>\n",
       "      <td>40.745068</td>\n",
       "      <td>-73.973129</td>\n",
       "      <td>40.756336</td>\n",
       "      <td>517</td>\n",
       "      <td>22</td>\n",
       "      <td>0.143611</td>\n",
       "      <td>2</td>\n",
       "      <td>5</td>\n",
       "      <td>1.988731</td>\n",
       "      <td>...</td>\n",
       "      <td>0</td>\n",
       "      <td>1</td>\n",
       "      <td>0</td>\n",
       "      <td>0</td>\n",
       "      <td>0</td>\n",
       "      <td>0</td>\n",
       "      <td>0</td>\n",
       "      <td>1</td>\n",
       "      <td>1</td>\n",
       "      <td>0</td>\n",
       "    </tr>\n",
       "    <tr>\n",
       "      <th>500012</th>\n",
       "      <td>-73.984879</td>\n",
       "      <td>40.742359</td>\n",
       "      <td>-73.990654</td>\n",
       "      <td>40.724621</td>\n",
       "      <td>427</td>\n",
       "      <td>22</td>\n",
       "      <td>0.118611</td>\n",
       "      <td>2</td>\n",
       "      <td>5</td>\n",
       "      <td>2.031560</td>\n",
       "      <td>...</td>\n",
       "      <td>0</td>\n",
       "      <td>1</td>\n",
       "      <td>0</td>\n",
       "      <td>0</td>\n",
       "      <td>0</td>\n",
       "      <td>0</td>\n",
       "      <td>0</td>\n",
       "      <td>1</td>\n",
       "      <td>1</td>\n",
       "      <td>0</td>\n",
       "    </tr>\n",
       "    <tr>\n",
       "      <th>217796</th>\n",
       "      <td>-73.943489</td>\n",
       "      <td>40.787701</td>\n",
       "      <td>-73.882362</td>\n",
       "      <td>40.829941</td>\n",
       "      <td>1074</td>\n",
       "      <td>3</td>\n",
       "      <td>0.298333</td>\n",
       "      <td>4</td>\n",
       "      <td>0</td>\n",
       "      <td>6.966188</td>\n",
       "      <td>...</td>\n",
       "      <td>0</td>\n",
       "      <td>0</td>\n",
       "      <td>0</td>\n",
       "      <td>0</td>\n",
       "      <td>0</td>\n",
       "      <td>1</td>\n",
       "      <td>0</td>\n",
       "      <td>0</td>\n",
       "      <td>0</td>\n",
       "      <td>1</td>\n",
       "    </tr>\n",
       "    <tr>\n",
       "      <th>319765</th>\n",
       "      <td>-73.981354</td>\n",
       "      <td>40.747139</td>\n",
       "      <td>-74.003647</td>\n",
       "      <td>40.741589</td>\n",
       "      <td>445</td>\n",
       "      <td>22</td>\n",
       "      <td>0.123611</td>\n",
       "      <td>1</td>\n",
       "      <td>5</td>\n",
       "      <td>1.976883</td>\n",
       "      <td>...</td>\n",
       "      <td>1</td>\n",
       "      <td>0</td>\n",
       "      <td>0</td>\n",
       "      <td>0</td>\n",
       "      <td>0</td>\n",
       "      <td>0</td>\n",
       "      <td>0</td>\n",
       "      <td>1</td>\n",
       "      <td>0</td>\n",
       "      <td>1</td>\n",
       "    </tr>\n",
       "  </tbody>\n",
       "</table>\n",
       "<p>5 rows × 34 columns</p>\n",
       "</div>"
      ],
      "text/plain": [
       "        pickup_longitude  pickup_latitude  dropoff_longitude  \\\n",
       "327115        -73.991814        40.744064         -73.907669   \n",
       "642546        -73.991463        40.745068         -73.973129   \n",
       "500012        -73.984879        40.742359         -73.990654   \n",
       "217796        -73.943489        40.787701         -73.882362   \n",
       "319765        -73.981354        40.747139         -74.003647   \n",
       "\n",
       "        dropoff_latitude  trip_duration  pickup_hour  trip_duration_in_hours  \\\n",
       "327115         40.683575           3368           19                0.935556   \n",
       "642546         40.756336            517           22                0.143611   \n",
       "500012         40.724621            427           22                0.118611   \n",
       "217796         40.829941           1074            3                0.298333   \n",
       "319765         40.741589            445           22                0.123611   \n",
       "\n",
       "        pickup_day_of_week  pick_time_of_the_day_in_numbers  total_distance  \\\n",
       "327115                   2                                4        9.774321   \n",
       "642546                   2                                5        1.988731   \n",
       "500012                   2                                5        2.031560   \n",
       "217796                   4                                0        6.966188   \n",
       "319765                   1                                5        1.976883   \n",
       "\n",
       "        ...  day_of_the_week_Tuesday  day_of_the_week_Wednesday  \\\n",
       "327115  ...                        0                          1   \n",
       "642546  ...                        0                          1   \n",
       "500012  ...                        0                          1   \n",
       "217796  ...                        0                          0   \n",
       "319765  ...                        1                          0   \n",
       "\n",
       "        pick_time_of_the_day_Afternoon  pick_time_of_the_day_Early Morning  \\\n",
       "327115                               0                                   0   \n",
       "642546                               0                                   0   \n",
       "500012                               0                                   0   \n",
       "217796                               0                                   0   \n",
       "319765                               0                                   0   \n",
       "\n",
       "        pick_time_of_the_day_Evening  pick_time_of_the_day_Late Night  \\\n",
       "327115                             1                                0   \n",
       "642546                             0                                0   \n",
       "500012                             0                                0   \n",
       "217796                             0                                1   \n",
       "319765                             0                                0   \n",
       "\n",
       "        pick_time_of_the_day_Morning  pick_time_of_the_day_Night  vendor_id_1  \\\n",
       "327115                             0                           0            1   \n",
       "642546                             0                           1            1   \n",
       "500012                             0                           1            1   \n",
       "217796                             0                           0            0   \n",
       "319765                             0                           1            0   \n",
       "\n",
       "        vendor_id_2  \n",
       "327115            0  \n",
       "642546            0  \n",
       "500012            0  \n",
       "217796            1  \n",
       "319765            1  \n",
       "\n",
       "[5 rows x 34 columns]"
      ]
     },
     "execution_count": 43,
     "metadata": {},
     "output_type": "execute_result"
    }
   ],
   "source": [
    "new_df=train_data.drop(['id','pickup_datetime','dropoff_datetime'],axis=1)\n",
    "\n",
    "new_df.head()"
   ]
  },
  {
   "cell_type": "markdown",
   "id": "3ecf5741",
   "metadata": {},
   "source": [
    "# Segragating Depenent & Independent Variable"
   ]
  },
  {
   "cell_type": "code",
   "execution_count": 44,
   "id": "e47c53a9",
   "metadata": {},
   "outputs": [
    {
     "data": {
      "text/plain": [
       "((522516, 33), (522516,))"
      ]
     },
     "execution_count": 44,
     "metadata": {},
     "output_type": "execute_result"
    }
   ],
   "source": [
    "a=new_df.drop(['trip_duration_in_hours'],axis=1)\n",
    "b=new_df['trip_duration_in_hours']\n",
    "\n",
    "a.shape , b.shape"
   ]
  },
  {
   "cell_type": "code",
   "execution_count": 45,
   "id": "36d092eb",
   "metadata": {},
   "outputs": [],
   "source": [
    "# importing minmax scaler\n",
    "from sklearn.preprocessing import MinMaxScaler\n",
    "scaler = MinMaxScaler()\n",
    "a_scaled = scaler.fit_transform(a)"
   ]
  },
  {
   "cell_type": "code",
   "execution_count": 46,
   "id": "718a4f77",
   "metadata": {},
   "outputs": [],
   "source": [
    "a = pd.DataFrame(a_scaled)"
   ]
  },
  {
   "cell_type": "markdown",
   "id": "95dbba60",
   "metadata": {},
   "source": [
    "# Loading train test split function"
   ]
  },
  {
   "cell_type": "code",
   "execution_count": 47,
   "id": "7e13c7a0",
   "metadata": {},
   "outputs": [
    {
     "data": {
      "text/plain": [
       "((512065, 33), (10451, 33))"
      ]
     },
     "execution_count": 47,
     "metadata": {},
     "output_type": "execute_result"
    }
   ],
   "source": [
    "from sklearn.model_selection import train_test_split\n",
    "train_x,test_x,train_y,test_y = train_test_split(a,b, random_state = 42,test_size=0.02)\n",
    "train_x.shape ,  test_x.shape"
   ]
  },
  {
   "cell_type": "code",
   "execution_count": 48,
   "id": "5af8f981",
   "metadata": {},
   "outputs": [
    {
     "name": "stdout",
     "output_type": "stream",
     "text": [
      "Test MAE     0.014908182630051349\n"
     ]
    }
   ],
   "source": [
    "# Creating instance of KNN\n",
    "reg = KNN(n_neighbors = 2)\n",
    "\n",
    "# Fitting the model\n",
    "reg.fit(train_x, train_y)\n",
    "\n",
    "# Predicting over the Train Set and calculating MAE\n",
    "test_predict = reg.predict(test_x)\n",
    "k2 = mae(test_predict, test_y)\n",
    "print('Test MAE    ', k2 )"
   ]
  },
  {
   "cell_type": "code",
   "execution_count": 49,
   "id": "7f7b5ab0",
   "metadata": {},
   "outputs": [
    {
     "data": {
      "text/plain": [
       "<function matplotlib.pyplot.show(close=None, block=None)>"
      ]
     },
     "execution_count": 49,
     "metadata": {},
     "output_type": "execute_result"
    },
    {
     "data": {
      "image/png": "[encoded data removed]",
      "text/plain": [
       "<Figure size 720x360 with 1 Axes>"
      ]
     },
     "metadata": {
      "needs_background": "light"
     },
     "output_type": "display_data"
    }
   ],
   "source": [
    "# creating data for bar plot\n",
    "create_data={'Module_data':k1,\n",
    "            'new_df data':k2}\n",
    "\n",
    "display=list(create_data.keys())\n",
    "value=list(create_data.values())\n",
    "\n",
    "fig = plt.figure(figsize = (10, 5))\n",
    " \n",
    "# creating the bar plot\n",
    "plt.bar(display, value, color ='blue',\n",
    "        width = 0.4)\n",
    "\n",
    "plt.xlabel(\"test score\")\n",
    "plt.ylabel(\"value of error\")\n",
    "plt.title(\"MAE of TEST data\")\n",
    "plt.show"
   ]
  },
  {
   "cell_type": "code",
   "execution_count": null,
   "id": "3181d8eb",
   "metadata": {},
   "outputs": [],
   "source": []
  },
  {
   "cell_type": "code",
   "execution_count": null,
   "id": "e2cbb8c2",
   "metadata": {},
   "outputs": [],
   "source": []
  }
 ],
 "metadata": {
  "kernelspec": {
   "display_name": "Python 3 (ipykernel)",
   "language": "python",
   "name": "python3"
  },
  "language_info": {
   "codemirror_mode": {
    "name": "ipython",
    "version": 3
   },
   "file_extension": ".py",
   "mimetype": "text/x-python",
   "name": "python",
   "nbconvert_exporter": "python",
   "pygments_lexer": "ipython3",
   "version": "3.9.7"
  }
 },
 "nbformat": 4,
 "nbformat_minor": 5
}
